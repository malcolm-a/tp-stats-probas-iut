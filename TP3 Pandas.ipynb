{
 "cells": [
  {
   "cell_type": "markdown",
   "id": "58fe328e",
   "metadata": {},
   "source": [
    "# Statistiques descriptives"
   ]
  },
  {
   "cell_type": "markdown",
   "id": "aee40cb0",
   "metadata": {},
   "source": [
    "# Découverte de Pandas"
   ]
  },
  {
   "cell_type": "markdown",
   "id": "bf69a5d7",
   "metadata": {},
   "source": [
    "## Manipulation de tableaux de données avec pandas"
   ]
  },
  {
   "cell_type": "code",
   "execution_count": 1,
   "id": "fd3942a6",
   "metadata": {
    "scrolled": true
   },
   "outputs": [],
   "source": [
    "import pandas as pd\n",
    "# Choisir ce jeu de données par défaut\n",
    "df = pd.read_csv(\"https://raw.githubusercontent.com/lgreski/pokemonData/master/Pokemon.csv\")\n",
    "# Choisir ce jeu de données si vous êtes expert-dresseur et savez ce que vous faites\n",
    "# df = pandas.read_csv(\"./pokemon2.csv\")"
   ]
  },
  {
   "cell_type": "code",
   "execution_count": 2,
   "id": "4c40347b",
   "metadata": {
    "scrolled": true
   },
   "outputs": [
    {
     "data": {
      "text/html": [
       "<div>\n",
       "<style scoped>\n",
       "    .dataframe tbody tr th:only-of-type {\n",
       "        vertical-align: middle;\n",
       "    }\n",
       "\n",
       "    .dataframe tbody tr th {\n",
       "        vertical-align: top;\n",
       "    }\n",
       "\n",
       "    .dataframe thead th {\n",
       "        text-align: right;\n",
       "    }\n",
       "</style>\n",
       "<table border=\"1\" class=\"dataframe\">\n",
       "  <thead>\n",
       "    <tr style=\"text-align: right;\">\n",
       "      <th></th>\n",
       "      <th>ID</th>\n",
       "      <th>Name</th>\n",
       "      <th>Form</th>\n",
       "      <th>Type1</th>\n",
       "      <th>Type2</th>\n",
       "      <th>Total</th>\n",
       "      <th>HP</th>\n",
       "      <th>Attack</th>\n",
       "      <th>Defense</th>\n",
       "      <th>Sp. Atk</th>\n",
       "      <th>Sp. Def</th>\n",
       "      <th>Speed</th>\n",
       "      <th>Generation</th>\n",
       "    </tr>\n",
       "  </thead>\n",
       "  <tbody>\n",
       "    <tr>\n",
       "      <th>0</th>\n",
       "      <td>1</td>\n",
       "      <td>Bulbasaur</td>\n",
       "      <td></td>\n",
       "      <td>Grass</td>\n",
       "      <td>Poison</td>\n",
       "      <td>318</td>\n",
       "      <td>45</td>\n",
       "      <td>49</td>\n",
       "      <td>49</td>\n",
       "      <td>65</td>\n",
       "      <td>65</td>\n",
       "      <td>45</td>\n",
       "      <td>1</td>\n",
       "    </tr>\n",
       "    <tr>\n",
       "      <th>1</th>\n",
       "      <td>2</td>\n",
       "      <td>Ivysaur</td>\n",
       "      <td></td>\n",
       "      <td>Grass</td>\n",
       "      <td>Poison</td>\n",
       "      <td>405</td>\n",
       "      <td>60</td>\n",
       "      <td>62</td>\n",
       "      <td>63</td>\n",
       "      <td>80</td>\n",
       "      <td>80</td>\n",
       "      <td>60</td>\n",
       "      <td>1</td>\n",
       "    </tr>\n",
       "    <tr>\n",
       "      <th>2</th>\n",
       "      <td>3</td>\n",
       "      <td>Venusaur</td>\n",
       "      <td></td>\n",
       "      <td>Grass</td>\n",
       "      <td>Poison</td>\n",
       "      <td>525</td>\n",
       "      <td>80</td>\n",
       "      <td>82</td>\n",
       "      <td>83</td>\n",
       "      <td>100</td>\n",
       "      <td>100</td>\n",
       "      <td>80</td>\n",
       "      <td>1</td>\n",
       "    </tr>\n",
       "    <tr>\n",
       "      <th>3</th>\n",
       "      <td>4</td>\n",
       "      <td>Charmander</td>\n",
       "      <td></td>\n",
       "      <td>Fire</td>\n",
       "      <td></td>\n",
       "      <td>309</td>\n",
       "      <td>39</td>\n",
       "      <td>52</td>\n",
       "      <td>43</td>\n",
       "      <td>60</td>\n",
       "      <td>50</td>\n",
       "      <td>65</td>\n",
       "      <td>1</td>\n",
       "    </tr>\n",
       "    <tr>\n",
       "      <th>4</th>\n",
       "      <td>5</td>\n",
       "      <td>Charmeleon</td>\n",
       "      <td></td>\n",
       "      <td>Fire</td>\n",
       "      <td></td>\n",
       "      <td>405</td>\n",
       "      <td>58</td>\n",
       "      <td>64</td>\n",
       "      <td>58</td>\n",
       "      <td>80</td>\n",
       "      <td>65</td>\n",
       "      <td>80</td>\n",
       "      <td>1</td>\n",
       "    </tr>\n",
       "  </tbody>\n",
       "</table>\n",
       "</div>"
      ],
      "text/plain": [
       "   ID        Name Form  Type1   Type2  Total  HP  Attack  Defense  Sp. Atk  \\\n",
       "0   1   Bulbasaur       Grass  Poison    318  45      49       49       65   \n",
       "1   2     Ivysaur       Grass  Poison    405  60      62       63       80   \n",
       "2   3    Venusaur       Grass  Poison    525  80      82       83      100   \n",
       "3   4  Charmander        Fire            309  39      52       43       60   \n",
       "4   5  Charmeleon        Fire            405  58      64       58       80   \n",
       "\n",
       "   Sp. Def  Speed  Generation  \n",
       "0       65     45           1  \n",
       "1       80     60           1  \n",
       "2      100     80           1  \n",
       "3       50     65           1  \n",
       "4       65     80           1  "
      ]
     },
     "execution_count": 2,
     "metadata": {},
     "output_type": "execute_result"
    }
   ],
   "source": [
    "df.head()"
   ]
  },
  {
   "cell_type": "code",
   "execution_count": 3,
   "id": "c9d84d11",
   "metadata": {
    "scrolled": true
   },
   "outputs": [
    {
     "data": {
      "text/plain": [
       "ID             int64\n",
       "Name          object\n",
       "Form          object\n",
       "Type1         object\n",
       "Type2         object\n",
       "Total          int64\n",
       "HP             int64\n",
       "Attack         int64\n",
       "Defense        int64\n",
       "Sp. Atk        int64\n",
       "Sp. Def        int64\n",
       "Speed          int64\n",
       "Generation     int64\n",
       "dtype: object"
      ]
     },
     "execution_count": 3,
     "metadata": {},
     "output_type": "execute_result"
    }
   ],
   "source": [
    "df.dtypes"
   ]
  },
  {
   "cell_type": "code",
   "execution_count": 4,
   "id": "0e2f9c4d",
   "metadata": {
    "scrolled": true
   },
   "outputs": [
    {
     "data": {
      "text/plain": [
       "ID                13\n",
       "Name          Weedle\n",
       "Form                \n",
       "Type1            Bug\n",
       "Type2         Poison\n",
       "Total            195\n",
       "HP                40\n",
       "Attack            35\n",
       "Defense           30\n",
       "Sp. Atk           20\n",
       "Sp. Def           20\n",
       "Speed             50\n",
       "Generation         1\n",
       "Name: 12, dtype: object"
      ]
     },
     "execution_count": 4,
     "metadata": {},
     "output_type": "execute_result"
    }
   ],
   "source": [
    "df.loc[12] # Accès à la ligne 12"
   ]
  },
  {
   "cell_type": "code",
   "execution_count": 5,
   "id": "1930d1b5",
   "metadata": {
    "scrolled": true
   },
   "outputs": [
    {
     "data": {
      "text/plain": [
       "13"
      ]
     },
     "execution_count": 5,
     "metadata": {},
     "output_type": "execute_result"
    }
   ],
   "source": [
    "df.iloc[12, 0] # Accès à ligne 12 colonne 0 avec les indices"
   ]
  },
  {
   "cell_type": "code",
   "execution_count": 6,
   "id": "4b308fd0",
   "metadata": {
    "scrolled": true
   },
   "outputs": [
    {
     "data": {
      "text/plain": [
       "13"
      ]
     },
     "execution_count": 6,
     "metadata": {},
     "output_type": "execute_result"
    }
   ],
   "source": [
    "df.loc[12, 'ID'] # Accès grâces aux clés"
   ]
  },
  {
   "cell_type": "code",
   "execution_count": 7,
   "id": "13cfeceb",
   "metadata": {
    "scrolled": true
   },
   "outputs": [
    {
     "data": {
      "text/html": [
       "<div>\n",
       "<style scoped>\n",
       "    .dataframe tbody tr th:only-of-type {\n",
       "        vertical-align: middle;\n",
       "    }\n",
       "\n",
       "    .dataframe tbody tr th {\n",
       "        vertical-align: top;\n",
       "    }\n",
       "\n",
       "    .dataframe thead th {\n",
       "        text-align: right;\n",
       "    }\n",
       "</style>\n",
       "<table border=\"1\" class=\"dataframe\">\n",
       "  <thead>\n",
       "    <tr style=\"text-align: right;\">\n",
       "      <th></th>\n",
       "      <th>Name</th>\n",
       "      <th>Attack</th>\n",
       "    </tr>\n",
       "  </thead>\n",
       "  <tbody>\n",
       "    <tr>\n",
       "      <th>9</th>\n",
       "      <td>Caterpie</td>\n",
       "      <td>30</td>\n",
       "    </tr>\n",
       "    <tr>\n",
       "      <th>13</th>\n",
       "      <td>Kakuna</td>\n",
       "      <td>25</td>\n",
       "    </tr>\n",
       "  </tbody>\n",
       "</table>\n",
       "</div>"
      ],
      "text/plain": [
       "        Name  Attack\n",
       "9   Caterpie      30\n",
       "13    Kakuna      25"
      ]
     },
     "execution_count": 7,
     "metadata": {},
     "output_type": "execute_result"
    }
   ],
   "source": [
    "df.loc[[9, 13], ['Name', 'Attack']]"
   ]
  },
  {
   "cell_type": "code",
   "execution_count": 8,
   "id": "279e55dd",
   "metadata": {
    "scrolled": true
   },
   "outputs": [
    {
     "data": {
      "text/html": [
       "<div>\n",
       "<style scoped>\n",
       "    .dataframe tbody tr th:only-of-type {\n",
       "        vertical-align: middle;\n",
       "    }\n",
       "\n",
       "    .dataframe tbody tr th {\n",
       "        vertical-align: top;\n",
       "    }\n",
       "\n",
       "    .dataframe thead th {\n",
       "        text-align: right;\n",
       "    }\n",
       "</style>\n",
       "<table border=\"1\" class=\"dataframe\">\n",
       "  <thead>\n",
       "    <tr style=\"text-align: right;\">\n",
       "      <th></th>\n",
       "      <th>Name</th>\n",
       "      <th>Attack</th>\n",
       "    </tr>\n",
       "  </thead>\n",
       "  <tbody>\n",
       "    <tr>\n",
       "      <th>10</th>\n",
       "      <td>Metapod</td>\n",
       "      <td>20</td>\n",
       "    </tr>\n",
       "    <tr>\n",
       "      <th>11</th>\n",
       "      <td>Butterfree</td>\n",
       "      <td>45</td>\n",
       "    </tr>\n",
       "    <tr>\n",
       "      <th>12</th>\n",
       "      <td>Weedle</td>\n",
       "      <td>35</td>\n",
       "    </tr>\n",
       "    <tr>\n",
       "      <th>13</th>\n",
       "      <td>Kakuna</td>\n",
       "      <td>25</td>\n",
       "    </tr>\n",
       "    <tr>\n",
       "      <th>14</th>\n",
       "      <td>Beedrill</td>\n",
       "      <td>90</td>\n",
       "    </tr>\n",
       "    <tr>\n",
       "      <th>15</th>\n",
       "      <td>Pidgey</td>\n",
       "      <td>45</td>\n",
       "    </tr>\n",
       "    <tr>\n",
       "      <th>16</th>\n",
       "      <td>Pidgeotto</td>\n",
       "      <td>60</td>\n",
       "    </tr>\n",
       "    <tr>\n",
       "      <th>17</th>\n",
       "      <td>Pidgeot</td>\n",
       "      <td>80</td>\n",
       "    </tr>\n",
       "    <tr>\n",
       "      <th>18</th>\n",
       "      <td>Rattata</td>\n",
       "      <td>56</td>\n",
       "    </tr>\n",
       "    <tr>\n",
       "      <th>19</th>\n",
       "      <td>Raticate</td>\n",
       "      <td>81</td>\n",
       "    </tr>\n",
       "    <tr>\n",
       "      <th>20</th>\n",
       "      <td>Spearow</td>\n",
       "      <td>60</td>\n",
       "    </tr>\n",
       "  </tbody>\n",
       "</table>\n",
       "</div>"
      ],
      "text/plain": [
       "          Name  Attack\n",
       "10     Metapod      20\n",
       "11  Butterfree      45\n",
       "12      Weedle      35\n",
       "13      Kakuna      25\n",
       "14    Beedrill      90\n",
       "15      Pidgey      45\n",
       "16   Pidgeotto      60\n",
       "17     Pidgeot      80\n",
       "18     Rattata      56\n",
       "19    Raticate      81\n",
       "20     Spearow      60"
      ]
     },
     "execution_count": 8,
     "metadata": {},
     "output_type": "execute_result"
    }
   ],
   "source": [
    "df.loc[10:20,['Name', 'Attack']]"
   ]
  },
  {
   "cell_type": "code",
   "execution_count": 9,
   "id": "88dbb311",
   "metadata": {
    "scrolled": true
   },
   "outputs": [
    {
     "data": {
      "text/plain": [
       "389        Deoxys\n",
       "414     Rampardos\n",
       "669        Kyurem\n",
       "688        Mewtwo\n",
       "693     Heracross\n",
       "695     Tyranitar\n",
       "708       Banette\n",
       "716       Groudon\n",
       "717      Rayquaza\n",
       "719      Garchomp\n",
       "722       Gallade\n",
       "913       Kartana\n",
       "918      Necrozma\n",
       "1064      Calyrex\n",
       "Name: Name, dtype: object"
      ]
     },
     "execution_count": 9,
     "metadata": {},
     "output_type": "execute_result"
    }
   ],
   "source": [
    "df[df['Attack']>160]['Name']"
   ]
  },
  {
   "cell_type": "markdown",
   "id": "6c1fd7b4",
   "metadata": {},
   "source": [
    "Explications :\n",
    "\n",
    "- df['Attack']>160 retourne une Series de booléens indiquant, pour chaque élément de la colonne Attack, s’il est ou non supérieur à 160.\n",
    "\n",
    "- df[df['Attack']>160] sélection la partie du tableau correspondante\n",
    "\n",
    "- df[df['Attack']>160]['Name'] restriction de ce sous-tableau à la colonne Name"
   ]
  },
  {
   "cell_type": "markdown",
   "id": "d08bed74",
   "metadata": {},
   "source": [
    "On peut combiner (mais attention, pandas a ses propres opérateurs logiques, et les parenthèses sont indispensables) :"
   ]
  },
  {
   "cell_type": "code",
   "execution_count": 10,
   "id": "8c41a181",
   "metadata": {
    "scrolled": true
   },
   "outputs": [
    {
     "name": "stdout",
     "output_type": "stream",
     "text": [
      "Les pokemons ayant plus 130 en attaque et plus de 140 en défense sont :  Tyranitar Aggron Metagross Groudon Stakataka Melmetal Calyrex\n"
     ]
    }
   ],
   "source": [
    "selection = df[(df['Attack']>130) & (df['Defense']>140)]['Name']\n",
    "\n",
    "print(\"Les pokemons ayant plus 130 en attaque et plus de 140 en défense sont : \", \n",
    "      ' '.join(selection.tolist()))"
   ]
  },
  {
   "cell_type": "code",
   "execution_count": 11,
   "id": "63dd2538",
   "metadata": {
    "scrolled": true
   },
   "outputs": [
    {
     "name": "stdout",
     "output_type": "stream",
     "text": [
      "<class 'pandas.core.frame.DataFrame'>\n",
      "RangeIndex: 1194 entries, 0 to 1193\n",
      "Data columns (total 13 columns):\n",
      " #   Column      Non-Null Count  Dtype \n",
      "---  ------      --------------  ----- \n",
      " 0   ID          1194 non-null   int64 \n",
      " 1   Name        1194 non-null   object\n",
      " 2   Form        1194 non-null   object\n",
      " 3   Type1       1194 non-null   object\n",
      " 4   Type2       1194 non-null   object\n",
      " 5   Total       1194 non-null   int64 \n",
      " 6   HP          1194 non-null   int64 \n",
      " 7   Attack      1194 non-null   int64 \n",
      " 8   Defense     1194 non-null   int64 \n",
      " 9   Sp. Atk     1194 non-null   int64 \n",
      " 10  Sp. Def     1194 non-null   int64 \n",
      " 11  Speed       1194 non-null   int64 \n",
      " 12  Generation  1194 non-null   int64 \n",
      "dtypes: int64(9), object(4)\n",
      "memory usage: 121.4+ KB\n"
     ]
    }
   ],
   "source": [
    "df.info()"
   ]
  },
  {
   "cell_type": "markdown",
   "id": "4617f322",
   "metadata": {},
   "source": [
    "### Exercice « MAIS POURQUOI ON A FAIT TOUT ÇA ? »\n",
    "\n",
    "Les modules pandas et numpy incluent la plupart des fonctions que nous avons impléentées lors des séquences précédentes…\n",
    "\n",
    "À l’aide la documentation et d’un peu de flair, retrouver les fonctions/méthodes correspondant à celles des TP précédents. S’il en manque, on pourra recourir au module statistics."
   ]
  },
  {
   "cell_type": "code",
   "execution_count": 12,
   "id": "581c731d",
   "metadata": {
    "scrolled": true
   },
   "outputs": [
    {
     "name": "stdout",
     "output_type": "stream",
     "text": [
      "Moyenne         :  80.95\n",
      "Médiane         :  80.0\n",
      "Écart-type      :  32.12\n",
      "1er quartile    :  56.0\n",
      "3eme quartile   :  100.0\n",
      "Variance.       :  1031.84\n"
     ]
    }
   ],
   "source": [
    "import statistics as st\n",
    "\n",
    "# Méthodes statistiques appliquées à la colonne \"Attaque\"\n",
    "\n",
    "# On a certaines fonctions équivalentes pour la description statistique\n",
    "\n",
    "print(\"Moyenne         : \",round(df[\"Attack\"].mean(),2))\n",
    "print(\"Médiane         : \",round(df[\"Attack\"].median(),2))\n",
    "print(\"Écart-type      : \",round(df[\"Attack\"].std(),2))\n",
    "print(\"1er quartile    : \",round(df[\"Attack\"].quantile(0.25), 2))\n",
    "print(\"3eme quartile   : \",round(df[\"Attack\"].quantile(0.75), 2))\n",
    "print(\"Variance.       : \",round(df[\"Attack\"].var(), 2))"
   ]
  },
  {
   "cell_type": "code",
   "execution_count": 13,
   "id": "5debeed5",
   "metadata": {
    "scrolled": true
   },
   "outputs": [
    {
     "data": {
      "text/plain": [
       "count    1194.000000\n",
       "mean       80.948911\n",
       "std        32.122250\n",
       "min         5.000000\n",
       "25%        56.000000\n",
       "50%        80.000000\n",
       "75%       100.000000\n",
       "max       190.000000\n",
       "Name: Attack, dtype: float64"
      ]
     },
     "execution_count": 13,
     "metadata": {},
     "output_type": "execute_result"
    }
   ],
   "source": [
    "# Mais on peut utiliser ceci à la place :\n",
    "\n",
    "df[\"Attack\"].describe()"
   ]
  },
  {
   "cell_type": "code",
   "execution_count": 14,
   "id": "6f68c217",
   "metadata": {
    "scrolled": true
   },
   "outputs": [
    {
     "data": {
      "text/plain": [
       "0.3243577213631351"
      ]
     },
     "execution_count": 14,
     "metadata": {},
     "output_type": "execute_result"
    }
   ],
   "source": [
    "df[\"Defense\"].corr(df[\"HP\"], 'pearson') # Coefficient de Pearson entre les PV et la Défense"
   ]
  },
  {
   "cell_type": "code",
   "execution_count": 15,
   "id": "c69acc50",
   "metadata": {
    "scrolled": true
   },
   "outputs": [
    {
     "data": {
      "text/plain": [
       "0.4766654762312115"
      ]
     },
     "execution_count": 15,
     "metadata": {},
     "output_type": "execute_result"
    }
   ],
   "source": [
    "df[\"Defense\"].corr(df[\"HP\"], 'spearman') # Coefficient de Spearman entre les PV et la Défense"
   ]
  },
  {
   "cell_type": "code",
   "execution_count": 16,
   "id": "cd3e6473",
   "metadata": {
    "scrolled": true
   },
   "outputs": [
    {
     "data": {
      "text/plain": [
       "array([[<AxesSubplot:title={'center':'Attack'}>]], dtype=object)"
      ]
     },
     "execution_count": 16,
     "metadata": {},
     "output_type": "execute_result"
    },
    {
     "data": {
      "image/png": "[encoded data removed]",
      "text/plain": [
       "<Figure size 432x288 with 1 Axes>"
      ]
     },
     "metadata": {
      "needs_background": "light"
     },
     "output_type": "display_data"
    }
   ],
   "source": [
    "# distribution\n",
    "df.hist(\"Attack\")"
   ]
  },
  {
   "cell_type": "code",
   "execution_count": 17,
   "id": "2754648a",
   "metadata": {
    "scrolled": true
   },
   "outputs": [
    {
     "data": {
      "text/plain": [
       "0        182.0\n",
       "1        367.5\n",
       "2        656.5\n",
       "3        236.5\n",
       "4        382.5\n",
       "         ...  \n",
       "1189    1103.0\n",
       "1190    1129.5\n",
       "1191     697.5\n",
       "1192     663.5\n",
       "1193    1103.0\n",
       "Name: Attack, Length: 1194, dtype: float64"
      ]
     },
     "execution_count": 17,
     "metadata": {},
     "output_type": "execute_result"
    }
   ],
   "source": [
    "# conversion en rangs\n",
    "df[\"Attack\"].rank()"
   ]
  },
  {
   "cell_type": "code",
   "execution_count": 18,
   "id": "5eb78d4e",
   "metadata": {
    "scrolled": true
   },
   "outputs": [
    {
     "data": {
      "text/html": [
       "<div>\n",
       "<style scoped>\n",
       "    .dataframe tbody tr th:only-of-type {\n",
       "        vertical-align: middle;\n",
       "    }\n",
       "\n",
       "    .dataframe tbody tr th {\n",
       "        vertical-align: top;\n",
       "    }\n",
       "\n",
       "    .dataframe thead th {\n",
       "        text-align: right;\n",
       "    }\n",
       "</style>\n",
       "<table border=\"1\" class=\"dataframe\">\n",
       "  <thead>\n",
       "    <tr style=\"text-align: right;\">\n",
       "      <th>Type1</th>\n",
       "      <th>Bug</th>\n",
       "      <th>Dark</th>\n",
       "      <th>Dragon</th>\n",
       "      <th>Electric</th>\n",
       "      <th>Fairy</th>\n",
       "      <th>Fighting</th>\n",
       "      <th>Fire</th>\n",
       "      <th>Flying</th>\n",
       "      <th>Ghost</th>\n",
       "      <th>Grass</th>\n",
       "      <th>Ground</th>\n",
       "      <th>Ice</th>\n",
       "      <th>Normal</th>\n",
       "      <th>Poison</th>\n",
       "      <th>Psychic</th>\n",
       "      <th>Rock</th>\n",
       "      <th>Steel</th>\n",
       "      <th>Water</th>\n",
       "    </tr>\n",
       "    <tr>\n",
       "      <th>Generation</th>\n",
       "      <th></th>\n",
       "      <th></th>\n",
       "      <th></th>\n",
       "      <th></th>\n",
       "      <th></th>\n",
       "      <th></th>\n",
       "      <th></th>\n",
       "      <th></th>\n",
       "      <th></th>\n",
       "      <th></th>\n",
       "      <th></th>\n",
       "      <th></th>\n",
       "      <th></th>\n",
       "      <th></th>\n",
       "      <th></th>\n",
       "      <th></th>\n",
       "      <th></th>\n",
       "      <th></th>\n",
       "    </tr>\n",
       "  </thead>\n",
       "  <tbody>\n",
       "    <tr>\n",
       "      <th>1</th>\n",
       "      <td>12</td>\n",
       "      <td>0</td>\n",
       "      <td>3</td>\n",
       "      <td>9</td>\n",
       "      <td>2</td>\n",
       "      <td>7</td>\n",
       "      <td>12</td>\n",
       "      <td>0</td>\n",
       "      <td>3</td>\n",
       "      <td>12</td>\n",
       "      <td>8</td>\n",
       "      <td>2</td>\n",
       "      <td>22</td>\n",
       "      <td>14</td>\n",
       "      <td>8</td>\n",
       "      <td>9</td>\n",
       "      <td>0</td>\n",
       "      <td>28</td>\n",
       "    </tr>\n",
       "    <tr>\n",
       "      <th>2</th>\n",
       "      <td>10</td>\n",
       "      <td>5</td>\n",
       "      <td>0</td>\n",
       "      <td>6</td>\n",
       "      <td>5</td>\n",
       "      <td>2</td>\n",
       "      <td>8</td>\n",
       "      <td>0</td>\n",
       "      <td>1</td>\n",
       "      <td>9</td>\n",
       "      <td>3</td>\n",
       "      <td>4</td>\n",
       "      <td>15</td>\n",
       "      <td>1</td>\n",
       "      <td>7</td>\n",
       "      <td>4</td>\n",
       "      <td>2</td>\n",
       "      <td>18</td>\n",
       "    </tr>\n",
       "    <tr>\n",
       "      <th>3</th>\n",
       "      <td>12</td>\n",
       "      <td>4</td>\n",
       "      <td>7</td>\n",
       "      <td>4</td>\n",
       "      <td>0</td>\n",
       "      <td>4</td>\n",
       "      <td>7</td>\n",
       "      <td>0</td>\n",
       "      <td>4</td>\n",
       "      <td>12</td>\n",
       "      <td>6</td>\n",
       "      <td>7</td>\n",
       "      <td>18</td>\n",
       "      <td>3</td>\n",
       "      <td>11</td>\n",
       "      <td>8</td>\n",
       "      <td>9</td>\n",
       "      <td>25</td>\n",
       "    </tr>\n",
       "    <tr>\n",
       "      <th>4</th>\n",
       "      <td>12</td>\n",
       "      <td>3</td>\n",
       "      <td>3</td>\n",
       "      <td>12</td>\n",
       "      <td>1</td>\n",
       "      <td>2</td>\n",
       "      <td>5</td>\n",
       "      <td>0</td>\n",
       "      <td>7</td>\n",
       "      <td>14</td>\n",
       "      <td>4</td>\n",
       "      <td>3</td>\n",
       "      <td>17</td>\n",
       "      <td>6</td>\n",
       "      <td>7</td>\n",
       "      <td>6</td>\n",
       "      <td>3</td>\n",
       "      <td>13</td>\n",
       "    </tr>\n",
       "    <tr>\n",
       "      <th>5</th>\n",
       "      <td>18</td>\n",
       "      <td>13</td>\n",
       "      <td>9</td>\n",
       "      <td>8</td>\n",
       "      <td>0</td>\n",
       "      <td>7</td>\n",
       "      <td>9</td>\n",
       "      <td>2</td>\n",
       "      <td>5</td>\n",
       "      <td>15</td>\n",
       "      <td>10</td>\n",
       "      <td>6</td>\n",
       "      <td>18</td>\n",
       "      <td>2</td>\n",
       "      <td>14</td>\n",
       "      <td>6</td>\n",
       "      <td>4</td>\n",
       "      <td>19</td>\n",
       "    </tr>\n",
       "    <tr>\n",
       "      <th>6</th>\n",
       "      <td>7</td>\n",
       "      <td>6</td>\n",
       "      <td>10</td>\n",
       "      <td>5</td>\n",
       "      <td>9</td>\n",
       "      <td>5</td>\n",
       "      <td>12</td>\n",
       "      <td>2</td>\n",
       "      <td>12</td>\n",
       "      <td>8</td>\n",
       "      <td>1</td>\n",
       "      <td>3</td>\n",
       "      <td>8</td>\n",
       "      <td>2</td>\n",
       "      <td>10</td>\n",
       "      <td>11</td>\n",
       "      <td>9</td>\n",
       "      <td>11</td>\n",
       "    </tr>\n",
       "    <tr>\n",
       "      <th>7</th>\n",
       "      <td>9</td>\n",
       "      <td>5</td>\n",
       "      <td>5</td>\n",
       "      <td>7</td>\n",
       "      <td>1</td>\n",
       "      <td>4</td>\n",
       "      <td>7</td>\n",
       "      <td>0</td>\n",
       "      <td>5</td>\n",
       "      <td>13</td>\n",
       "      <td>4</td>\n",
       "      <td>4</td>\n",
       "      <td>13</td>\n",
       "      <td>8</td>\n",
       "      <td>10</td>\n",
       "      <td>12</td>\n",
       "      <td>4</td>\n",
       "      <td>11</td>\n",
       "    </tr>\n",
       "    <tr>\n",
       "      <th>8</th>\n",
       "      <td>4</td>\n",
       "      <td>12</td>\n",
       "      <td>4</td>\n",
       "      <td>13</td>\n",
       "      <td>6</td>\n",
       "      <td>13</td>\n",
       "      <td>8</td>\n",
       "      <td>4</td>\n",
       "      <td>5</td>\n",
       "      <td>10</td>\n",
       "      <td>6</td>\n",
       "      <td>11</td>\n",
       "      <td>7</td>\n",
       "      <td>5</td>\n",
       "      <td>13</td>\n",
       "      <td>4</td>\n",
       "      <td>8</td>\n",
       "      <td>14</td>\n",
       "    </tr>\n",
       "    <tr>\n",
       "      <th>9</th>\n",
       "      <td>7</td>\n",
       "      <td>8</td>\n",
       "      <td>8</td>\n",
       "      <td>9</td>\n",
       "      <td>7</td>\n",
       "      <td>6</td>\n",
       "      <td>7</td>\n",
       "      <td>2</td>\n",
       "      <td>5</td>\n",
       "      <td>12</td>\n",
       "      <td>4</td>\n",
       "      <td>3</td>\n",
       "      <td>13</td>\n",
       "      <td>4</td>\n",
       "      <td>2</td>\n",
       "      <td>7</td>\n",
       "      <td>4</td>\n",
       "      <td>11</td>\n",
       "    </tr>\n",
       "  </tbody>\n",
       "</table>\n",
       "</div>"
      ],
      "text/plain": [
       "Type1       Bug  Dark  Dragon  Electric  Fairy  Fighting  Fire  Flying  Ghost  \\\n",
       "Generation                                                                      \n",
       "1            12     0       3         9      2         7    12       0      3   \n",
       "2            10     5       0         6      5         2     8       0      1   \n",
       "3            12     4       7         4      0         4     7       0      4   \n",
       "4            12     3       3        12      1         2     5       0      7   \n",
       "5            18    13       9         8      0         7     9       2      5   \n",
       "6             7     6      10         5      9         5    12       2     12   \n",
       "7             9     5       5         7      1         4     7       0      5   \n",
       "8             4    12       4        13      6        13     8       4      5   \n",
       "9             7     8       8         9      7         6     7       2      5   \n",
       "\n",
       "Type1       Grass  Ground  Ice  Normal  Poison  Psychic  Rock  Steel  Water  \n",
       "Generation                                                                   \n",
       "1              12       8    2      22      14        8     9      0     28  \n",
       "2               9       3    4      15       1        7     4      2     18  \n",
       "3              12       6    7      18       3       11     8      9     25  \n",
       "4              14       4    3      17       6        7     6      3     13  \n",
       "5              15      10    6      18       2       14     6      4     19  \n",
       "6               8       1    3       8       2       10    11      9     11  \n",
       "7              13       4    4      13       8       10    12      4     11  \n",
       "8              10       6   11       7       5       13     4      8     14  \n",
       "9              12       4    3      13       4        2     7      4     11  "
      ]
     },
     "execution_count": 18,
     "metadata": {},
     "output_type": "execute_result"
    }
   ],
   "source": [
    "# tableau de contingence entre la génération et les types\n",
    "\n",
    "type = df[\"Type1\"].copy()\n",
    "type.add(df[\"Type2\"])\n",
    "\n",
    "pd.crosstab(df[\"Generation\"], type)"
   ]
  },
  {
   "cell_type": "markdown",
   "id": "c85ceb63",
   "metadata": {},
   "source": [
    "## 2 Profiling"
   ]
  },
  {
   "cell_type": "code",
   "execution_count": 19,
   "id": "df3e5579",
   "metadata": {
    "scrolled": true
   },
   "outputs": [
    {
     "data": {
      "application/json": {
       "ascii": false,
       "bar_format": null,
       "colour": null,
       "elapsed": 0.011969804763793945,
       "initial": 0,
       "n": 0,
       "ncols": null,
       "nrows": null,
       "postfix": null,
       "prefix": "Summarize dataset",
       "rate": null,
       "total": 5,
       "unit": "it",
       "unit_divisor": 1000,
       "unit_scale": false
      },
      "application/vnd.jupyter.widget-view+json": {
       "model_id": "f80008965e3f4cbd814c530f0ec84cfa",
       "version_major": 2,
       "version_minor": 0
      },
      "text/plain": [
       "Summarize dataset:   0%|          | 0/5 [00:00<?, ?it/s]"
      ]
     },
     "metadata": {},
     "output_type": "display_data"
    },
    {
     "data": {
      "application/json": {
       "ascii": false,
       "bar_format": null,
       "colour": null,
       "elapsed": 0.012390613555908203,
       "initial": 0,
       "n": 0,
       "ncols": null,
       "nrows": null,
       "postfix": null,
       "prefix": "Generate report structure",
       "rate": null,
       "total": 1,
       "unit": "it",
       "unit_divisor": 1000,
       "unit_scale": false
      },
      "application/vnd.jupyter.widget-view+json": {
       "model_id": "3e761ceebc1d40f9b211e9d7c5e9ea3b",
       "version_major": 2,
       "version_minor": 0
      },
      "text/plain": [
       "Generate report structure:   0%|          | 0/1 [00:00<?, ?it/s]"
      ]
     },
     "metadata": {},
     "output_type": "display_data"
    },
    {
     "data": {
      "application/json": {
       "ascii": false,
       "bar_format": null,
       "colour": null,
       "elapsed": 0.011476993560791016,
       "initial": 0,
       "n": 0,
       "ncols": null,
       "nrows": null,
       "postfix": null,
       "prefix": "Render HTML",
       "rate": null,
       "total": 1,
       "unit": "it",
       "unit_divisor": 1000,
       "unit_scale": false
      },
      "application/vnd.jupyter.widget-view+json": {
       "model_id": "5ce5af13669b483b9050b92efb469255",
       "version_major": 2,
       "version_minor": 0
      },
      "text/plain": [
       "Render HTML:   0%|          | 0/1 [00:00<?, ?it/s]"
      ]
     },
     "metadata": {},
     "output_type": "display_data"
    },
    {
     "data": {
      "application/json": {
       "ascii": false,
       "bar_format": null,
       "colour": null,
       "elapsed": 0.011569499969482422,
       "initial": 0,
       "n": 0,
       "ncols": null,
       "nrows": null,
       "postfix": null,
       "prefix": "Export report to file",
       "rate": null,
       "total": 1,
       "unit": "it",
       "unit_divisor": 1000,
       "unit_scale": false
      },
      "application/vnd.jupyter.widget-view+json": {
       "model_id": "7cef9746e95b4423b798d596b33f5d8e",
       "version_major": 2,
       "version_minor": 0
      },
      "text/plain": [
       "Export report to file:   0%|          | 0/1 [00:00<?, ?it/s]"
      ]
     },
     "metadata": {},
     "output_type": "display_data"
    }
   ],
   "source": [
    "import pandas_profiling\n",
    "report = pandas_profiling.ProfileReport(df)\n",
    "report.to_file(output_file='./rapport.html')"
   ]
  },
  {
   "cell_type": "markdown",
   "id": "7e2e5105",
   "metadata": {},
   "source": [
    "## 3 Activités pratiques"
   ]
  },
  {
   "cell_type": "code",
   "execution_count": 20,
   "id": "a2037b0f",
   "metadata": {
    "scrolled": true
   },
   "outputs": [],
   "source": [
    "def podiums(df):\n",
    "    podiums = []\n",
    "    stats = [\"Total\", \"HP\", \"Attack\", \"Sp. Atk\", \"Defense\", \"Sp. Def\", \"Speed\"]\n",
    "    for stat in stats:\n",
    "        podiums.append(df.sort_values(by=stat, ascending=False).head(3))\n",
    "        \n",
    "    for i in range(len(podiums)):\n",
    "        print(f\"                     {stats[i]}\\n\")\n",
    "        print(podiums[i].loc[:,[\"Name\", \"Form\", stats[i]]], \"\\n\\n\")"
   ]
  },
  {
   "cell_type": "code",
   "execution_count": 21,
   "id": "065160d5",
   "metadata": {
    "scrolled": false
   },
   "outputs": [
    {
     "name": "stdout",
     "output_type": "stream",
     "text": [
      "                     Total\n",
      "\n",
      "           Name           Form  Total\n",
      "1054  Eternatus      Eternamax   1125\n",
      "689      Mewtwo  Mega Mewtwo Y    780\n",
      "688      Mewtwo  Mega Mewtwo X    780 \n",
      "\n",
      "\n",
      "                     HP\n",
      "\n",
      "           Name       Form   HP\n",
      "1054  Eternatus  Eternamax  255\n",
      "241     Blissey             255\n",
      "112     Chansey             250 \n",
      "\n",
      "\n",
      "                     Attack\n",
      "\n",
      "          Name            Form  Attack\n",
      "688     Mewtwo   Mega Mewtwo X     190\n",
      "693  Heracross  Mega Heracross     185\n",
      "913    Kartana                     181 \n",
      "\n",
      "\n",
      "                     Sp. Atk\n",
      "\n",
      "       Name           Form  Sp. Atk\n",
      "689  Mewtwo  Mega Mewtwo Y      194\n",
      "389  Deoxys   Attack Forme      180\n",
      "715  Kyogre  Primal Kyogre      180 \n",
      "\n",
      "\n",
      "                     Defense\n",
      "\n",
      "           Name         Form  Defense\n",
      "1054  Eternatus    Eternamax      250\n",
      "702      Aggron  Mega Aggron      230\n",
      "212     Shuckle                   230 \n",
      "\n",
      "\n",
      "                     Sp. Def\n",
      "\n",
      "           Name       Form  Sp. Def\n",
      "1054  Eternatus  Eternamax      250\n",
      "212     Shuckle                 230\n",
      "380      Regice                 200 \n",
      "\n",
      "\n",
      "                     Speed\n",
      "\n",
      "           Name         Form  Speed\n",
      "1059  Regieleki                 200\n",
      "391      Deoxys  Speed Forme    180\n",
      "290     Ninjask                 160 \n",
      "\n",
      "\n"
     ]
    }
   ],
   "source": [
    "podiums(df)"
   ]
  },
  {
   "cell_type": "code",
   "execution_count": 78,
   "id": "5af8fb75",
   "metadata": {
    "scrolled": false
   },
   "outputs": [],
   "source": [
    "import scipy.stats as st\n",
    "\n",
    "def eval_dec(df, selec):\n",
    "    deck = df.loc[selec]\n",
    "    \n",
    "    # Moyennes des statistiques\n",
    "    \n",
    "    hp = deck['HP'].mean()\n",
    "    atk = deck['Attack'].mean()\n",
    "    pdef = deck['Defense'].mean()\n",
    "    spatk = deck['Sp. Atk'].mean()\n",
    "    spdef = deck['Sp. Def'].mean()\n",
    "    speed = deck['Speed'].mean()\n",
    "    \n",
    "    print(\"*** Moyennes des statistiques de l'équipe ***\\n\")\n",
    "    print(f\"HP       : {round(hp, 2):>6}\")\n",
    "    print(f\"Attack   : {round(atk, 2):>6}\")\n",
    "    print(f\"Defense  : {round(pdef, 2):>6}\")\n",
    "    print(f\"Sp. Atk  : {round(spatk, 2):>6}\")\n",
    "    print(f\"Sp. Def  : {round(spdef, 2):>6}\")\n",
    "    print(f\"Speed    : {round(speed, 2):>6}\")\n",
    "    \n",
    "    # Quantile de chaque statistique\n",
    "    \n",
    "    print(\"\\n\\n*** Quantiles des statistiques de l'équipe ***\\n\")\n",
    "    print(f\"HP       : {st.percentileofscore(df['HP'], round(hp, 2))}\")\n",
    "    print(f\"Attack   : {st.percentileofscore(df['Attack'], round(atk, 2))}\")\n",
    "    print(f\"Defense  : {st.percentileofscore(df['Defense'], round(pdef, 2))}\")\n",
    "    print(f\"Sp. Atk  : {st.percentileofscore(df['Sp. Atk'], round(spatk, 2))}\")\n",
    "    print(f\"Sp. Def  : {st.percentileofscore(df['Sp. Def'], round(spdef, 2))}\")\n",
    "    print(f\"Speed    : {st.percentileofscore(df['Speed'], round(speed, 2))}\")    "
   ]
  },
  {
   "cell_type": "code",
   "execution_count": 83,
   "id": "da8e12f3",
   "metadata": {},
   "outputs": [
    {
     "data": {
      "text/html": [
       "<div>\n",
       "<style scoped>\n",
       "    .dataframe tbody tr th:only-of-type {\n",
       "        vertical-align: middle;\n",
       "    }\n",
       "\n",
       "    .dataframe tbody tr th {\n",
       "        vertical-align: top;\n",
       "    }\n",
       "\n",
       "    .dataframe thead th {\n",
       "        text-align: right;\n",
       "    }\n",
       "</style>\n",
       "<table border=\"1\" class=\"dataframe\">\n",
       "  <thead>\n",
       "    <tr style=\"text-align: right;\">\n",
       "      <th></th>\n",
       "      <th>ID</th>\n",
       "      <th>Name</th>\n",
       "      <th>Form</th>\n",
       "      <th>Type1</th>\n",
       "      <th>Type2</th>\n",
       "      <th>Total</th>\n",
       "      <th>HP</th>\n",
       "      <th>Attack</th>\n",
       "      <th>Defense</th>\n",
       "      <th>Sp. Atk</th>\n",
       "      <th>Sp. Def</th>\n",
       "      <th>Speed</th>\n",
       "      <th>Generation</th>\n",
       "    </tr>\n",
       "  </thead>\n",
       "  <tbody>\n",
       "    <tr>\n",
       "      <th>150</th>\n",
       "      <td>151</td>\n",
       "      <td>Mew</td>\n",
       "      <td></td>\n",
       "      <td>Psychic</td>\n",
       "      <td></td>\n",
       "      <td>600</td>\n",
       "      <td>100</td>\n",
       "      <td>100</td>\n",
       "      <td>100</td>\n",
       "      <td>100</td>\n",
       "      <td>100</td>\n",
       "      <td>100</td>\n",
       "      <td>1</td>\n",
       "    </tr>\n",
       "    <tr>\n",
       "      <th>444</th>\n",
       "      <td>435</td>\n",
       "      <td>Skuntank</td>\n",
       "      <td></td>\n",
       "      <td>Poison</td>\n",
       "      <td>Dark</td>\n",
       "      <td>479</td>\n",
       "      <td>103</td>\n",
       "      <td>93</td>\n",
       "      <td>67</td>\n",
       "      <td>71</td>\n",
       "      <td>61</td>\n",
       "      <td>84</td>\n",
       "      <td>4</td>\n",
       "    </tr>\n",
       "    <tr>\n",
       "      <th>350</th>\n",
       "      <td>351</td>\n",
       "      <td>Castform</td>\n",
       "      <td></td>\n",
       "      <td>Normal</td>\n",
       "      <td></td>\n",
       "      <td>420</td>\n",
       "      <td>70</td>\n",
       "      <td>70</td>\n",
       "      <td>70</td>\n",
       "      <td>70</td>\n",
       "      <td>70</td>\n",
       "      <td>70</td>\n",
       "      <td>3</td>\n",
       "    </tr>\n",
       "    <tr>\n",
       "      <th>802</th>\n",
       "      <td>719</td>\n",
       "      <td>Diancie</td>\n",
       "      <td>Mega Diancie</td>\n",
       "      <td>Rock</td>\n",
       "      <td>Fairy</td>\n",
       "      <td>700</td>\n",
       "      <td>50</td>\n",
       "      <td>160</td>\n",
       "      <td>110</td>\n",
       "      <td>160</td>\n",
       "      <td>110</td>\n",
       "      <td>110</td>\n",
       "      <td>6</td>\n",
       "    </tr>\n",
       "    <tr>\n",
       "      <th>5</th>\n",
       "      <td>6</td>\n",
       "      <td>Charizard</td>\n",
       "      <td></td>\n",
       "      <td>Fire</td>\n",
       "      <td>Flying</td>\n",
       "      <td>534</td>\n",
       "      <td>78</td>\n",
       "      <td>84</td>\n",
       "      <td>78</td>\n",
       "      <td>109</td>\n",
       "      <td>85</td>\n",
       "      <td>100</td>\n",
       "      <td>1</td>\n",
       "    </tr>\n",
       "    <tr>\n",
       "      <th>497</th>\n",
       "      <td>483</td>\n",
       "      <td>Dialga</td>\n",
       "      <td></td>\n",
       "      <td>Steel</td>\n",
       "      <td>Dragon</td>\n",
       "      <td>680</td>\n",
       "      <td>100</td>\n",
       "      <td>120</td>\n",
       "      <td>120</td>\n",
       "      <td>150</td>\n",
       "      <td>100</td>\n",
       "      <td>90</td>\n",
       "      <td>4</td>\n",
       "    </tr>\n",
       "  </tbody>\n",
       "</table>\n",
       "</div>"
      ],
      "text/plain": [
       "      ID       Name          Form    Type1   Type2  Total   HP  Attack  \\\n",
       "150  151        Mew                Psychic            600  100     100   \n",
       "444  435   Skuntank                 Poison    Dark    479  103      93   \n",
       "350  351   Castform                 Normal            420   70      70   \n",
       "802  719    Diancie  Mega Diancie     Rock   Fairy    700   50     160   \n",
       "5      6  Charizard                   Fire  Flying    534   78      84   \n",
       "497  483     Dialga                  Steel  Dragon    680  100     120   \n",
       "\n",
       "     Defense  Sp. Atk  Sp. Def  Speed  Generation  \n",
       "150      100      100      100    100           1  \n",
       "444       67       71       61     84           4  \n",
       "350       70       70       70     70           3  \n",
       "802      110      160      110    110           6  \n",
       "5         78      109       85    100           1  \n",
       "497      120      150      100     90           4  "
      ]
     },
     "execution_count": 83,
     "metadata": {},
     "output_type": "execute_result"
    }
   ],
   "source": [
    "selec = [150, 444, 350, 802, 5, 497]\n",
    "df.loc[selec]"
   ]
  },
  {
   "cell_type": "code",
   "execution_count": 85,
   "id": "7b6d8961",
   "metadata": {
    "scrolled": false
   },
   "outputs": [
    {
     "name": "stdout",
     "output_type": "stream",
     "text": [
      "*** Moyennes des statistiques de l'équipe ***\n",
      "\n",
      "HP       :   83.5\n",
      "Attack   :  104.5\n",
      "Defense  :  90.83\n",
      "Sp. Atk  :  110.0\n",
      "Sp. Def  :  87.67\n",
      "Speed    :  92.33\n",
      "\n",
      "\n",
      "*** Quantiles des statistiques de l'équipe ***\n",
      "\n",
      "HP       : 74.12060301507537\n",
      "Attack   : 77.1356783919598\n",
      "Defense  : 75.2931323283082\n",
      "Sp. Atk  : 86.05527638190955\n",
      "Sp. Def  : 73.45058626465662\n",
      "Speed    : 76.13065326633166\n"
     ]
    }
   ],
   "source": [
    "eval_dec(df, selec)"
   ]
  },
  {
   "cell_type": "code",
   "execution_count": null,
   "id": "9b7eaac8",
   "metadata": {},
   "outputs": [],
   "source": []
  }
 ],
 "metadata": {
  "kernelspec": {
   "display_name": "Python 3 (ipykernel)",
   "language": "python",
   "name": "python3"
  },
  "language_info": {
   "codemirror_mode": {
    "name": "ipython",
    "version": 3
   },
   "file_extension": ".py",
   "mimetype": "text/x-python",
   "name": "python",
   "nbconvert_exporter": "python",
   "pygments_lexer": "ipython3",
   "version": "3.8.10"
  }
 },
 "nbformat": 4,
 "nbformat_minor": 5
}
